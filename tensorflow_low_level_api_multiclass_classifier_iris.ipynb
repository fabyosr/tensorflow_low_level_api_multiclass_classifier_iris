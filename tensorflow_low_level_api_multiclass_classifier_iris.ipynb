{
 "cells": [
  {
   "cell_type": "markdown",
   "metadata": {
    "heading_collapsed": true
   },
   "source": [
    "# 0 - IMPORTS"
   ]
  },
  {
   "cell_type": "code",
   "execution_count": 55,
   "metadata": {
    "ExecuteTime": {
     "end_time": "2020-12-08T15:31:12.094521Z",
     "start_time": "2020-12-08T15:31:12.018195Z"
    },
    "hidden": true
   },
   "outputs": [],
   "source": [
    "import tensorflow as tf\n",
    "import numpy as np\n",
    "import warnings\n",
    "\n",
    "from sklearn.preprocessing import StandardScaler, OneHotEncoder\n",
    "from sklearn.compose import ColumnTransformer\n",
    "from sklearn.model_selection import train_test_split\n",
    "from sklearn.metrics import accuracy_score\n",
    "\n",
    "warnings.filterwarnings('ignore')"
   ]
  },
  {
   "cell_type": "markdown",
   "metadata": {
    "heading_collapsed": true
   },
   "source": [
    "# 1 - LOAD DATASET"
   ]
  },
  {
   "cell_type": "code",
   "execution_count": 3,
   "metadata": {
    "ExecuteTime": {
     "end_time": "2020-12-08T13:51:01.920338Z",
     "start_time": "2020-12-08T13:51:01.910339Z"
    },
    "hidden": true
   },
   "outputs": [],
   "source": [
    "from sklearn import datasets\n",
    "iris = datasets.load_iris()\n",
    "\n",
    "X = iris.data\n",
    "y = iris.target"
   ]
  },
  {
   "cell_type": "markdown",
   "metadata": {
    "heading_collapsed": true
   },
   "source": [
    "# 2 - DATA TRANSFORMATION"
   ]
  },
  {
   "cell_type": "code",
   "execution_count": 11,
   "metadata": {
    "ExecuteTime": {
     "end_time": "2020-12-08T13:58:17.941151Z",
     "start_time": "2020-12-08T13:58:17.936164Z"
    },
    "hidden": true
   },
   "outputs": [],
   "source": [
    "scaler_x = StandardScaler()\n",
    "X = scaler_x.fit_transform(X)"
   ]
  },
  {
   "cell_type": "code",
   "execution_count": 23,
   "metadata": {
    "ExecuteTime": {
     "end_time": "2020-12-08T14:08:09.226755Z",
     "start_time": "2020-12-08T14:08:09.213793Z"
    },
    "hidden": true
   },
   "outputs": [
    {
     "data": {
      "text/plain": [
       "array([[1., 0., 0.],\n",
       "       [1., 0., 0.],\n",
       "       [1., 0., 0.],\n",
       "       [1., 0., 0.],\n",
       "       [1., 0., 0.],\n",
       "       [1., 0., 0.],\n",
       "       [1., 0., 0.],\n",
       "       [1., 0., 0.],\n",
       "       [1., 0., 0.],\n",
       "       [1., 0., 0.],\n",
       "       [1., 0., 0.],\n",
       "       [1., 0., 0.],\n",
       "       [1., 0., 0.],\n",
       "       [1., 0., 0.],\n",
       "       [1., 0., 0.],\n",
       "       [1., 0., 0.],\n",
       "       [1., 0., 0.],\n",
       "       [1., 0., 0.],\n",
       "       [1., 0., 0.],\n",
       "       [1., 0., 0.],\n",
       "       [1., 0., 0.],\n",
       "       [1., 0., 0.],\n",
       "       [1., 0., 0.],\n",
       "       [1., 0., 0.],\n",
       "       [1., 0., 0.],\n",
       "       [1., 0., 0.],\n",
       "       [1., 0., 0.],\n",
       "       [1., 0., 0.],\n",
       "       [1., 0., 0.],\n",
       "       [1., 0., 0.],\n",
       "       [1., 0., 0.],\n",
       "       [1., 0., 0.],\n",
       "       [1., 0., 0.],\n",
       "       [1., 0., 0.],\n",
       "       [1., 0., 0.],\n",
       "       [1., 0., 0.],\n",
       "       [1., 0., 0.],\n",
       "       [1., 0., 0.],\n",
       "       [1., 0., 0.],\n",
       "       [1., 0., 0.],\n",
       "       [1., 0., 0.],\n",
       "       [1., 0., 0.],\n",
       "       [1., 0., 0.],\n",
       "       [1., 0., 0.],\n",
       "       [1., 0., 0.],\n",
       "       [1., 0., 0.],\n",
       "       [1., 0., 0.],\n",
       "       [1., 0., 0.],\n",
       "       [1., 0., 0.],\n",
       "       [1., 0., 0.],\n",
       "       [0., 1., 0.],\n",
       "       [0., 1., 0.],\n",
       "       [0., 1., 0.],\n",
       "       [0., 1., 0.],\n",
       "       [0., 1., 0.],\n",
       "       [0., 1., 0.],\n",
       "       [0., 1., 0.],\n",
       "       [0., 1., 0.],\n",
       "       [0., 1., 0.],\n",
       "       [0., 1., 0.],\n",
       "       [0., 1., 0.],\n",
       "       [0., 1., 0.],\n",
       "       [0., 1., 0.],\n",
       "       [0., 1., 0.],\n",
       "       [0., 1., 0.],\n",
       "       [0., 1., 0.],\n",
       "       [0., 1., 0.],\n",
       "       [0., 1., 0.],\n",
       "       [0., 1., 0.],\n",
       "       [0., 1., 0.],\n",
       "       [0., 1., 0.],\n",
       "       [0., 1., 0.],\n",
       "       [0., 1., 0.],\n",
       "       [0., 1., 0.],\n",
       "       [0., 1., 0.],\n",
       "       [0., 1., 0.],\n",
       "       [0., 1., 0.],\n",
       "       [0., 1., 0.],\n",
       "       [0., 1., 0.],\n",
       "       [0., 1., 0.],\n",
       "       [0., 1., 0.],\n",
       "       [0., 1., 0.],\n",
       "       [0., 1., 0.],\n",
       "       [0., 1., 0.],\n",
       "       [0., 1., 0.],\n",
       "       [0., 1., 0.],\n",
       "       [0., 1., 0.],\n",
       "       [0., 1., 0.],\n",
       "       [0., 1., 0.],\n",
       "       [0., 1., 0.],\n",
       "       [0., 1., 0.],\n",
       "       [0., 1., 0.],\n",
       "       [0., 1., 0.],\n",
       "       [0., 1., 0.],\n",
       "       [0., 1., 0.],\n",
       "       [0., 1., 0.],\n",
       "       [0., 1., 0.],\n",
       "       [0., 1., 0.],\n",
       "       [0., 1., 0.],\n",
       "       [0., 1., 0.],\n",
       "       [0., 0., 1.],\n",
       "       [0., 0., 1.],\n",
       "       [0., 0., 1.],\n",
       "       [0., 0., 1.],\n",
       "       [0., 0., 1.],\n",
       "       [0., 0., 1.],\n",
       "       [0., 0., 1.],\n",
       "       [0., 0., 1.],\n",
       "       [0., 0., 1.],\n",
       "       [0., 0., 1.],\n",
       "       [0., 0., 1.],\n",
       "       [0., 0., 1.],\n",
       "       [0., 0., 1.],\n",
       "       [0., 0., 1.],\n",
       "       [0., 0., 1.],\n",
       "       [0., 0., 1.],\n",
       "       [0., 0., 1.],\n",
       "       [0., 0., 1.],\n",
       "       [0., 0., 1.],\n",
       "       [0., 0., 1.],\n",
       "       [0., 0., 1.],\n",
       "       [0., 0., 1.],\n",
       "       [0., 0., 1.],\n",
       "       [0., 0., 1.],\n",
       "       [0., 0., 1.],\n",
       "       [0., 0., 1.],\n",
       "       [0., 0., 1.],\n",
       "       [0., 0., 1.],\n",
       "       [0., 0., 1.],\n",
       "       [0., 0., 1.],\n",
       "       [0., 0., 1.],\n",
       "       [0., 0., 1.],\n",
       "       [0., 0., 1.],\n",
       "       [0., 0., 1.],\n",
       "       [0., 0., 1.],\n",
       "       [0., 0., 1.],\n",
       "       [0., 0., 1.],\n",
       "       [0., 0., 1.],\n",
       "       [0., 0., 1.],\n",
       "       [0., 0., 1.],\n",
       "       [0., 0., 1.],\n",
       "       [0., 0., 1.],\n",
       "       [0., 0., 1.],\n",
       "       [0., 0., 1.],\n",
       "       [0., 0., 1.],\n",
       "       [0., 0., 1.],\n",
       "       [0., 0., 1.],\n",
       "       [0., 0., 1.],\n",
       "       [0., 0., 1.],\n",
       "       [0., 0., 1.]])"
      ]
     },
     "execution_count": 23,
     "metadata": {},
     "output_type": "execute_result"
    }
   ],
   "source": [
    "# reshape target variable to matrix format \"N lines x 1 column\" \n",
    "y = y.reshape(-1, 1)\n",
    "\n",
    "# apply one hot encoder to target variable\n",
    "ct = ColumnTransformer(\n",
    "    transformers=[\n",
    "        (\"Country\",        # Just a name\n",
    "         OneHotEncoder(), # The transformer class\n",
    "         [0]            # The column(s) to be applied on.\n",
    "         )\n",
    "    ], remainder='passthrough'\n",
    ")\n",
    "\n",
    "y = ct.fit_transform(y)\n",
    "y"
   ]
  },
  {
   "cell_type": "markdown",
   "metadata": {
    "heading_collapsed": true
   },
   "source": [
    "# 3 - CREATE TRAIN & TEST DATASET"
   ]
  },
  {
   "cell_type": "code",
   "execution_count": 26,
   "metadata": {
    "ExecuteTime": {
     "end_time": "2020-12-08T14:11:03.769378Z",
     "start_time": "2020-12-08T14:11:03.750463Z"
    },
    "hidden": true
   },
   "outputs": [],
   "source": [
    "X_train, X_test, y_train, y_test = train_test_split(X, y, test_size = 0.3)"
   ]
  },
  {
   "cell_type": "code",
   "execution_count": 27,
   "metadata": {
    "ExecuteTime": {
     "end_time": "2020-12-08T14:11:05.432165Z",
     "start_time": "2020-12-08T14:11:05.426187Z"
    },
    "hidden": true
   },
   "outputs": [
    {
     "data": {
      "text/plain": [
       "(105, 4)"
      ]
     },
     "execution_count": 27,
     "metadata": {},
     "output_type": "execute_result"
    }
   ],
   "source": [
    "X_train.shape"
   ]
  },
  {
   "cell_type": "code",
   "execution_count": 28,
   "metadata": {
    "ExecuteTime": {
     "end_time": "2020-12-08T14:11:12.048091Z",
     "start_time": "2020-12-08T14:11:12.043074Z"
    },
    "hidden": true
   },
   "outputs": [
    {
     "data": {
      "text/plain": [
       "(45, 4)"
      ]
     },
     "execution_count": 28,
     "metadata": {},
     "output_type": "execute_result"
    }
   ],
   "source": [
    "X_test.shape"
   ]
  },
  {
   "cell_type": "markdown",
   "metadata": {
    "heading_collapsed": true
   },
   "source": [
    "# 4 - CREATE TENSORFLOW MODEL"
   ]
  },
  {
   "cell_type": "markdown",
   "metadata": {
    "hidden": true
   },
   "source": [
    "![x_and_y](img/neural_network.png)"
   ]
  },
  {
   "cell_type": "markdown",
   "metadata": {
    "heading_collapsed": true,
    "hidden": true
   },
   "source": [
    "## 4.1 Create input layer"
   ]
  },
  {
   "cell_type": "code",
   "execution_count": 30,
   "metadata": {
    "ExecuteTime": {
     "end_time": "2020-12-08T14:16:30.637940Z",
     "start_time": "2020-12-08T14:16:30.632953Z"
    },
    "hidden": true
   },
   "outputs": [
    {
     "name": "stdout",
     "output_type": "stream",
     "text": [
      "input_layer contains 4 neurons.\n"
     ]
    }
   ],
   "source": [
    "input_layer = X.shape[1]\n",
    "print('input_layer contains {} neurons.'.format(input_layer))"
   ]
  },
  {
   "cell_type": "markdown",
   "metadata": {
    "heading_collapsed": true,
    "hidden": true
   },
   "source": [
    "## 4.2 Create hidden layer"
   ]
  },
  {
   "cell_type": "code",
   "execution_count": 31,
   "metadata": {
    "ExecuteTime": {
     "end_time": "2020-12-08T14:16:45.595612Z",
     "start_time": "2020-12-08T14:16:45.591655Z"
    },
    "hidden": true
   },
   "outputs": [
    {
     "name": "stdout",
     "output_type": "stream",
     "text": [
      "hidden_layer contains 4 neurons.\n"
     ]
    }
   ],
   "source": [
    "hidden_layer = int(np.ceil((X.shape[1] + y.shape[1]) / 2))\n",
    "print('hidden_layer contains {} neurons.'.format(hidden_layer))"
   ]
  },
  {
   "cell_type": "markdown",
   "metadata": {
    "heading_collapsed": true,
    "hidden": true
   },
   "source": [
    "## 4.3 Create output layer"
   ]
  },
  {
   "cell_type": "code",
   "execution_count": 32,
   "metadata": {
    "ExecuteTime": {
     "end_time": "2020-12-08T14:17:06.287509Z",
     "start_time": "2020-12-08T14:17:06.280556Z"
    },
    "hidden": true
   },
   "outputs": [
    {
     "name": "stdout",
     "output_type": "stream",
     "text": [
      "hidden_layer contains 3 neurons.\n"
     ]
    }
   ],
   "source": [
    "output_layer = y.shape[1]\n",
    "print('hidden_layer contains {} neurons.'.format(output_layer))"
   ]
  },
  {
   "cell_type": "markdown",
   "metadata": {
    "heading_collapsed": true,
    "hidden": true
   },
   "source": [
    "## 4.4 Create Weights Tensor Variables"
   ]
  },
  {
   "cell_type": "code",
   "execution_count": 39,
   "metadata": {
    "ExecuteTime": {
     "end_time": "2020-12-08T14:45:05.520005Z",
     "start_time": "2020-12-08T14:45:05.477129Z"
    },
    "hidden": true
   },
   "outputs": [],
   "source": [
    "W = {'hidden': tf.Variable(tf.random_normal([input_layer, hidden_layer])),\n",
    "     'output': tf.Variable(tf.random_normal([hidden_layer, output_layer]))}"
   ]
  },
  {
   "cell_type": "markdown",
   "metadata": {
    "hidden": true
   },
   "source": [
    "## 4.5 Create Bias Tensor Variables "
   ]
  },
  {
   "cell_type": "code",
   "execution_count": 40,
   "metadata": {
    "ExecuteTime": {
     "end_time": "2020-12-08T14:45:07.317914Z",
     "start_time": "2020-12-08T14:45:07.286001Z"
    },
    "hidden": true
   },
   "outputs": [],
   "source": [
    "b = {'hidden': tf.Variable(tf.random_normal([hidden_layer])),\n",
    "     'output': tf.Variable(tf.random_normal([output_layer]))}"
   ]
  },
  {
   "cell_type": "markdown",
   "metadata": {
    "hidden": true
   },
   "source": [
    "## 4.6 Create PlaceHolders Tensor Variables "
   ]
  },
  {
   "cell_type": "code",
   "execution_count": 36,
   "metadata": {
    "ExecuteTime": {
     "end_time": "2020-12-08T14:44:21.626920Z",
     "start_time": "2020-12-08T14:44:21.617944Z"
    },
    "hidden": true
   },
   "outputs": [],
   "source": [
    "xph = tf.placeholder('float', [None, input_layer])\n",
    "yph = tf.placeholder('float', [None, output_layer])"
   ]
  },
  {
   "cell_type": "markdown",
   "metadata": {
    "hidden": true
   },
   "source": [
    "## 4.7 Create Tensorflow Model"
   ]
  },
  {
   "cell_type": "code",
   "execution_count": 37,
   "metadata": {
    "ExecuteTime": {
     "end_time": "2020-12-08T14:44:28.599904Z",
     "start_time": "2020-12-08T14:44:28.593920Z"
    },
    "hidden": true
   },
   "outputs": [],
   "source": [
    "# define multilayer perceptron function\n",
    "def mlp(x, W, bias):\n",
    "    input_layer_to_hidden_layer = tf.add(tf.matmul(x, W['hidden']), bias['hidden'])\n",
    "    hidden_layer_activation     = tf.nn.relu(input_layer_to_hidden_layer)\n",
    "    output_layer                = tf.add(tf.matmul(hidden_layer_activation, W['output']), b['output'])\n",
    "    return output_layer"
   ]
  },
  {
   "cell_type": "code",
   "execution_count": 43,
   "metadata": {
    "ExecuteTime": {
     "end_time": "2020-12-08T15:06:41.177779Z",
     "start_time": "2020-12-08T15:06:40.914529Z"
    },
    "hidden": true
   },
   "outputs": [],
   "source": [
    "model = mlp(xph, W, b)"
   ]
  },
  {
   "cell_type": "markdown",
   "metadata": {
    "hidden": true
   },
   "source": [
    "## 4.8 Create Model Optimizer"
   ]
  },
  {
   "cell_type": "code",
   "execution_count": 45,
   "metadata": {
    "ExecuteTime": {
     "end_time": "2020-12-08T15:06:54.215175Z",
     "start_time": "2020-12-08T15:06:52.764341Z"
    },
    "hidden": true
   },
   "outputs": [],
   "source": [
    "model_error     = tf.reduce_mean(tf.nn.softmax_cross_entropy_with_logits_v2(logits = model, labels = yph))\n",
    "model_optimizer = tf.train.AdamOptimizer(learning_rate = 0.0001).minimize(model_error)"
   ]
  },
  {
   "cell_type": "markdown",
   "metadata": {},
   "source": [
    "# 5 - TRAINING MODEL"
   ]
  },
  {
   "cell_type": "markdown",
   "metadata": {},
   "source": [
    "## 5.1 - Define Batch Structure"
   ]
  },
  {
   "cell_type": "code",
   "execution_count": 46,
   "metadata": {
    "ExecuteTime": {
     "end_time": "2020-12-08T15:13:06.401740Z",
     "start_time": "2020-12-08T15:13:06.375371Z"
    }
   },
   "outputs": [
    {
     "name": "stdout",
     "output_type": "stream",
     "text": [
      "We have 13 cicles with 8 records each.\n"
     ]
    }
   ],
   "source": [
    "batch_size  = 8 # 8 records to train and optmize model\n",
    "batch_cycle = int(len(X_train) / batch_size) # number of cicles to train all records\n",
    "print( 'We have {} cicles with {} records each.'.format(batch_cycle, batch_size) )"
   ]
  },
  {
   "cell_type": "code",
   "execution_count": 33,
   "metadata": {},
   "outputs": [
    {
     "data": {
      "text/plain": [
       "[array([[-0.29484182, -0.8191665 ,  0.25096731,  0.13322594],\n",
       "        [-0.41600969, -1.51337539,  0.02350449, -0.12972   ],\n",
       "        [ 1.2803405 ,  0.33784833,  1.10395287,  1.44795564],\n",
       "        [ 1.03800476,  0.10644536,  0.36469871,  0.26469891],\n",
       "        [ 1.03800476,  0.10644536,  0.53529583,  0.39617188],\n",
       "        [-0.7795133 ,  0.80065426, -1.3412724 , -1.31297673],\n",
       "        [-1.02184904, -1.74477836, -0.26082403, -0.26119297],\n",
       "        [-1.50652052,  1.26346019, -1.56873522, -1.31297673],\n",
       "        [-0.05250608, -0.8191665 ,  0.76275864,  0.92206376]]),\n",
       " array([[ 0.4321654 , -0.58776353,  0.59216153,  0.79059079],\n",
       "        [-0.90068117,  1.72626612, -1.2844067 , -1.18150376],\n",
       "        [ 1.15917263,  0.33784833,  1.21768427,  1.44795564],\n",
       "        [ 0.31099753, -1.05056946,  1.04708716,  0.26469891],\n",
       "        [-0.7795133 ,  1.03205722, -1.2844067 , -1.31297673],\n",
       "        [-0.05250608, -1.05056946,  0.1372359 ,  0.00175297],\n",
       "        [-0.17367395, -0.58776353,  0.42156442,  0.13322594],\n",
       "        [-1.02184904, -0.1249576 , -1.227541  , -1.31297673]]),\n",
       " array([[-0.90068117,  1.72626612, -1.227541  , -1.31297673],\n",
       "        [-0.41600969,  2.65187798, -1.3412724 , -1.31297673],\n",
       "        [-0.17367395,  1.72626612, -1.17067529, -1.18150376],\n",
       "        [-0.53717756,  0.80065426, -1.17067529, -1.31297673],\n",
       "        [ 1.64384411,  0.33784833,  1.27454998,  0.79059079],\n",
       "        [-0.53717756,  1.49486315, -1.2844067 , -1.31297673],\n",
       "        [ 0.67450115,  0.10644536,  0.99022146,  0.79059079],\n",
       "        [ 2.4920192 ,  1.72626612,  1.50201279,  1.05353673]]),\n",
       " array([[-1.14301691, -1.51337539, -0.26082403, -0.26119297],\n",
       "        [ 1.03800476,  0.10644536,  1.04708716,  1.57942861],\n",
       "        [ 0.79566902, -0.58776353,  0.47843012,  0.39617188],\n",
       "        [ 0.06866179,  0.33784833,  0.59216153,  0.79059079],\n",
       "        [ 0.55333328, -1.28197243,  0.64902723,  0.39617188],\n",
       "        [-1.02184904,  0.33784833, -1.45500381, -1.31297673],\n",
       "        [-0.53717756, -0.1249576 ,  0.42156442,  0.39617188],\n",
       "        [-1.14301691,  0.10644536, -1.2844067 , -1.4444497 ]]),\n",
       " array([[-1.26418478,  0.80065426, -1.05694388, -1.31297673],\n",
       "        [ 1.88617985, -0.58776353,  1.33141568,  0.92206376],\n",
       "        [ 0.55333328,  0.80065426,  1.04708716,  1.57942861],\n",
       "        [ 0.55333328, -0.35636057,  1.04708716,  0.79059079],\n",
       "        [-1.02184904,  0.80065426, -1.2844067 , -1.31297673],\n",
       "        [-0.17367395, -1.28197243,  0.70589294,  1.05353673],\n",
       "        [-1.26418478, -0.1249576 , -1.3412724 , -1.4444497 ],\n",
       "        [ 2.24968346,  1.72626612,  1.67260991,  1.31648267]]),\n",
       " array([[ 0.91683689, -0.35636057,  0.47843012,  0.13322594],\n",
       "        [ 0.18982966, -0.8191665 ,  0.76275864,  0.52764485],\n",
       "        [ 1.76501198, -0.35636057,  1.44514709,  0.79059079],\n",
       "        [-1.02184904,  0.80065426, -1.227541  , -1.05003079],\n",
       "        [ 0.31099753, -0.35636057,  0.53529583,  0.26469891],\n",
       "        [ 0.55333328, -0.8191665 ,  0.64902723,  0.79059079],\n",
       "        [-0.90068117,  1.49486315, -1.2844067 , -1.05003079],\n",
       "        [ 0.67450115,  0.33784833,  0.87649005,  1.44795564]]),\n",
       " array([[ 1.03800476, -0.1249576 ,  0.81962435,  1.44795564],\n",
       "        [ 0.18982966, -0.1249576 ,  0.59216153,  0.79059079],\n",
       "        [-0.90068117,  1.03205722, -1.3412724 , -1.31297673],\n",
       "        [-0.53717756,  1.95766909, -1.17067529, -1.05003079],\n",
       "        [ 0.67450115, -0.35636057,  0.30783301,  0.13322594],\n",
       "        [-0.17367395,  3.11468391, -1.2844067 , -1.05003079],\n",
       "        [ 2.24968346, -0.1249576 ,  1.33141568,  1.44795564],\n",
       "        [ 0.91683689, -0.1249576 ,  0.36469871,  0.26469891]]),\n",
       " array([[-1.14301691, -1.28197243,  0.42156442,  0.65911782],\n",
       "        [-1.26418478,  0.10644536, -1.227541  , -1.31297673],\n",
       "        [-0.90068117,  1.72626612, -1.05694388, -1.05003079],\n",
       "        [-0.41600969,  1.03205722, -1.39813811, -1.31297673],\n",
       "        [ 0.67450115, -0.58776353,  1.04708716,  1.1850097 ],\n",
       "        [ 1.52267624, -0.1249576 ,  1.21768427,  1.1850097 ],\n",
       "        [-1.14301691, -0.1249576 , -1.3412724 , -1.31297673],\n",
       "        [-1.87002413, -0.1249576 , -1.51186952, -1.4444497 ]]),\n",
       " array([[ 0.31099753, -0.1249576 ,  0.64902723,  0.79059079],\n",
       "        [ 0.67450115, -0.58776353,  1.04708716,  1.31648267],\n",
       "        [ 1.03800476, -0.1249576 ,  0.70589294,  0.65911782],\n",
       "        [ 1.2803405 ,  0.10644536,  0.93335575,  1.1850097 ],\n",
       "        [-1.02184904,  1.03205722, -1.227541  , -0.78708485],\n",
       "        [-1.02184904,  0.56925129, -1.3412724 , -1.31297673],\n",
       "        [ 1.03800476,  0.56925129,  1.10395287,  1.71090158],\n",
       "        [-0.05250608, -0.8191665 ,  0.76275864,  0.92206376]]),\n",
       " array([[-0.41600969, -1.05056946,  0.36469871,  0.00175297],\n",
       "        [-0.29484182, -0.58776353,  0.64902723,  1.05353673],\n",
       "        [ 0.55333328, -1.74477836,  0.36469871,  0.13322594],\n",
       "        [ 1.15917263, -0.1249576 ,  0.99022146,  1.1850097 ],\n",
       "        [ 0.55333328, -1.28197243,  0.70589294,  0.92206376],\n",
       "        [ 1.2803405 ,  0.10644536,  0.76275864,  1.44795564],\n",
       "        [ 0.4321654 , -0.35636057,  0.30783301,  0.13322594],\n",
       "        [-0.29484182, -0.1249576 ,  0.42156442,  0.39617188]]),\n",
       " array([[ 3.10997534e-01, -5.87763531e-01,  5.35295827e-01,\n",
       "          1.75297293e-03],\n",
       "        [-5.25060772e-02, -8.19166497e-01,  8.03701950e-02,\n",
       "          1.75297293e-03],\n",
       "        [-9.00681170e-01,  8.00654259e-01, -1.28440670e+00,\n",
       "         -1.31297673e+00],\n",
       "        [-1.38535265e+00,  3.37848329e-01, -1.22754100e+00,\n",
       "         -1.31297673e+00],\n",
       "        [ 3.10997534e-01, -5.87763531e-01,  1.37235899e-01,\n",
       "          1.33225943e-01],\n",
       "        [-7.79513300e-01,  2.42047502e+00, -1.28440670e+00,\n",
       "         -1.44444970e+00],\n",
       "        [-1.50652052e+00,  3.37848329e-01, -1.34127240e+00,\n",
       "         -1.31297673e+00],\n",
       "        [-1.73673948e-01, -5.87763531e-01,  1.94101603e-01,\n",
       "          1.33225943e-01]]),\n",
       " array([[ 0.06866179, -0.1249576 ,  0.76275864,  0.79059079],\n",
       "        [ 0.55333328, -0.58776353,  0.76275864,  0.39617188],\n",
       "        [ 0.79566902, -0.1249576 ,  0.99022146,  0.79059079],\n",
       "        [ 1.03800476,  0.56925129,  1.10395287,  1.1850097 ],\n",
       "        [-0.53717756,  1.95766909, -1.39813811, -1.05003079],\n",
       "        [-1.14301691,  0.10644536, -1.2844067 , -1.4444497 ],\n",
       "        [-1.38535265,  0.33784833, -1.39813811, -1.31297673],\n",
       "        [-0.90068117,  0.56925129, -1.17067529, -0.91855782]]),\n",
       " array([[ 0.79566902, -0.1249576 ,  0.81962435,  1.05353673],\n",
       "        [ 0.67450115, -0.8191665 ,  0.87649005,  0.92206376],\n",
       "        [ 0.55333328,  0.56925129,  1.27454998,  1.71090158],\n",
       "        [-0.29484182, -0.35636057, -0.09022692,  0.13322594],\n",
       "        [-0.17367395, -1.05056946, -0.14709262, -0.26119297],\n",
       "        [ 0.18982966, -1.97618132,  0.70589294,  0.39617188],\n",
       "        [-0.41600969, -1.28197243,  0.1372359 ,  0.13322594],\n",
       "        [ 1.64384411,  1.26346019,  1.33141568,  1.71090158]])]"
      ]
     },
     "execution_count": 33,
     "metadata": {},
     "output_type": "execute_result"
    }
   ],
   "source": [
    "# create array of batch with predict variables\n",
    "X_batches = np.array_split(X_train, batch_cycle)\n",
    "X_batches"
   ]
  },
  {
   "cell_type": "markdown",
   "metadata": {},
   "source": [
    "## 5.2 - Model Training"
   ]
  },
  {
   "cell_type": "code",
   "execution_count": 47,
   "metadata": {
    "ExecuteTime": {
     "end_time": "2020-12-08T15:23:53.647182Z",
     "start_time": "2020-12-08T15:23:33.738741Z"
    }
   },
   "outputs": [
    {
     "name": "stdout",
     "output_type": "stream",
     "text": [
      "Epoch: 1 error: 1.2724829407838676\n",
      "Epoch: 501 error: 0.4546482127446395\n",
      "Epoch: 1001 error: 0.2822469318142304\n",
      "Epoch: 1501 error: 0.18963478047114155\n",
      "Epoch: 2001 error: 0.12761626994380584\n",
      "Epoch: 2501 error: 0.08571971365465567\n"
     ]
    }
   ],
   "source": [
    "with tf.Session() as sess:\n",
    "    sess.run(tf.global_variables_initializer())\n",
    "    for epoch in range(3000):\n",
    "        mean_error = 0.0\n",
    "        batch_cycle = int(len(X_train) / batch_size)\n",
    "        X_batches = np.array_split(X_train, batch_cycle)\n",
    "        y_batches = np.array_split(y_train, batch_cycle)\n",
    "        for i in range(batch_cycle):\n",
    "            X_batch, y_batch = X_batches[i], y_batches[i]\n",
    "            _, cost = sess.run([model_optimizer, model_error], feed_dict = {xph: X_batch, yph: y_batch})\n",
    "            mean_error += cost / batch_cycle\n",
    "        if epoch % 500 == 0:\n",
    "            print('Epoch: ' + str((epoch + 1)) + ' error: ' + str(mean_error))\n",
    "    W_final, b_final = sess.run([W, b])"
   ]
  },
  {
   "cell_type": "markdown",
   "metadata": {},
   "source": [
    "## 5.3 - Final Weights"
   ]
  },
  {
   "cell_type": "code",
   "execution_count": 52,
   "metadata": {},
   "outputs": [
    {
     "data": {
      "text/plain": [
       "{'oculta': array([[-0.5557124 , -1.8534161 ,  0.15347278,  0.9356429 ],\n",
       "        [-0.30108556,  1.1704956 ,  1.5173255 ,  0.1725314 ],\n",
       "        [ 3.2615788 , -1.5167435 , -0.01237538,  0.8732984 ],\n",
       "        [ 1.229192  , -1.5423791 , -0.12267964,  0.34158868]],\n",
       "       dtype=float32), 'saida': array([[-2.496203 , -1.3808637,  1.4181937],\n",
       "        [ 2.0235126, -1.6290889, -1.4720006],\n",
       "        [-0.2312544,  0.5091364, -1.0839738],\n",
       "        [-0.879805 , -2.9005344,  1.1711245]], dtype=float32)}"
      ]
     },
     "execution_count": 52,
     "metadata": {},
     "output_type": "execute_result"
    }
   ],
   "source": [
    "W_final"
   ]
  },
  {
   "cell_type": "code",
   "execution_count": 53,
   "metadata": {},
   "outputs": [
    {
     "data": {
      "text/plain": [
       "{'oculta': array([-1.5457541, -1.1545649, -2.7522078, -1.791996 ], dtype=float32),\n",
       " 'saida': array([-1.67663  ,  2.3390503, -0.8624562], dtype=float32)}"
      ]
     },
     "execution_count": 53,
     "metadata": {},
     "output_type": "execute_result"
    }
   ],
   "source": [
    "b_final"
   ]
  },
  {
   "cell_type": "markdown",
   "metadata": {},
   "source": [
    "# 6 - PREDICTIONS"
   ]
  },
  {
   "cell_type": "code",
   "execution_count": 49,
   "metadata": {
    "ExecuteTime": {
     "end_time": "2020-12-08T15:30:14.304945Z",
     "start_time": "2020-12-08T15:30:13.830311Z"
    }
   },
   "outputs": [],
   "source": [
    "# predictions\n",
    "model_predictions = mlp(xph, W_final, b_final)\n",
    "with tf.Session() as sess:\n",
    "    sess.run(tf.global_variables_initializer())\n",
    "    r1 = sess.run(model_predictions, feed_dict = {xph: X_test})\n",
    "    r2 = sess.run(tf.nn.softmax(r1))\n",
    "    r3 = sess.run(tf.argmax(r2, 1))"
   ]
  },
  {
   "cell_type": "markdown",
   "metadata": {},
   "source": [
    "# 6.1 - Output Layer Results"
   ]
  },
  {
   "cell_type": "code",
   "execution_count": 50,
   "metadata": {
    "ExecuteTime": {
     "end_time": "2020-12-08T15:30:17.245838Z",
     "start_time": "2020-12-08T15:30:17.022213Z"
    }
   },
   "outputs": [
    {
     "data": {
      "text/plain": [
       "array([[-12.274862  ,  -3.9607048 ,  -0.35668147],\n",
       "       [  9.162098  ,  -7.360831  , -20.307787  ],\n",
       "       [ -5.188447  ,  -0.6265671 ,  -3.7338743 ],\n",
       "       [  9.909658  ,  -7.9546695 , -21.151772  ],\n",
       "       [ -7.3711853 ,   0.6805234 ,  -3.5102544 ],\n",
       "       [  8.538536  ,  -6.858585  , -18.858908  ],\n",
       "       [ -4.30509   ,  -0.36674845,  -2.7716184 ],\n",
       "       [-12.064908  ,  -3.236835  ,   0.2012552 ],\n",
       "       [-10.000791  ,  -1.8623134 ,  -0.78861034],\n",
       "       [ -9.916374  ,  -3.017314  ,  -0.7285273 ],\n",
       "       [ -4.2571797 ,  -0.299922  ,  -2.7034006 ],\n",
       "       [ -8.32328   ,  -1.5482289 ,  -4.7426744 ],\n",
       "       [  8.253269  ,  -6.778747  , -18.807182  ],\n",
       "       [ -4.031439  ,   2.0901437 ,  -5.8207054 ],\n",
       "       [ -3.44696   ,   0.17411083,  -4.479288  ],\n",
       "       [ -4.6724176 ,   0.5559977 ,  -4.007749  ],\n",
       "       [-11.664723  ,  -1.5805022 ,  -1.320839  ],\n",
       "       [  6.265619  ,  -5.58852   , -19.573614  ],\n",
       "       [-12.656747  ,  -4.4620714 ,   1.280522  ],\n",
       "       [ -7.905629  ,   1.3431482 ,  -3.939965  ],\n",
       "       [-12.991972  ,  -4.4295745 ,   1.1965328 ],\n",
       "       [-13.530104  ,  -4.827916  ,   1.4928747 ],\n",
       "       [  7.6902494 ,  -6.279214  , -18.375027  ],\n",
       "       [ -8.488773  ,  -2.2554169 ,  -1.8169794 ],\n",
       "       [ 10.179893  ,  -7.922794  , -19.762648  ],\n",
       "       [  9.390586  ,  -7.2680297 , -19.178434  ],\n",
       "       [  9.046336  ,  -7.2635827 , -19.227043  ],\n",
       "       [  8.455849  ,  -6.668225  , -18.879137  ],\n",
       "       [ -4.1703024 ,   0.4417945 ,  -4.1810675 ],\n",
       "       [-15.152375  ,  -5.4534445 ,   1.8356088 ],\n",
       "       [  8.683875  ,  -6.787051  , -18.832758  ],\n",
       "       [-13.592335  ,  -4.853985  ,   1.508006  ],\n",
       "       [-14.656409  ,  -5.2997203 ,   1.7667309 ],\n",
       "       [ -8.4786    ,  -2.4150171 ,  -1.0782037 ],\n",
       "       [ -4.6604567 ,  -0.41903615,  -3.8005428 ],\n",
       "       [  8.841256  ,  -7.0305753 , -19.583866  ],\n",
       "       [-10.268997  ,  -2.604158  ,  -3.179944  ],\n",
       "       [ -3.1282406 ,   0.36372566,  -6.696747  ],\n",
       "       [  8.520412  ,  -6.7003183 , -18.859941  ],\n",
       "       [  5.6058707 ,  -5.157635  , -19.27591   ],\n",
       "       [-14.958871  ,  -5.42642   ,   1.840273  ],\n",
       "       [-11.702613  ,  -4.062389  ,   1.0485288 ],\n",
       "       [-10.533432  ,   0.688264  ,  -5.5215187 ],\n",
       "       [ -7.2042437 ,  -0.7698029 ,  -2.960338  ],\n",
       "       [  7.437592  ,  -5.9914665 , -17.577929  ]], dtype=float32)"
      ]
     },
     "execution_count": 50,
     "metadata": {},
     "output_type": "execute_result"
    }
   ],
   "source": [
    "r1"
   ]
  },
  {
   "cell_type": "markdown",
   "metadata": {},
   "source": [
    "# 6.2 - Softmax Output Layer"
   ]
  },
  {
   "cell_type": "code",
   "execution_count": 51,
   "metadata": {
    "ExecuteTime": {
     "end_time": "2020-12-08T15:30:25.541592Z",
     "start_time": "2020-12-08T15:30:25.504475Z"
    }
   },
   "outputs": [
    {
     "data": {
      "text/plain": [
       "array([[6.49136791e-06, 2.64928527e-02, 9.73500609e-01],\n",
       "       [9.99999881e-01, 6.67088429e-08, 1.58997964e-13],\n",
       "       [9.89648141e-03, 9.47720289e-01, 4.23832089e-02],\n",
       "       [1.00000000e+00, 1.74429822e-08, 3.23737009e-14],\n",
       "       [3.13709519e-04, 9.84782159e-01, 1.49041945e-02],\n",
       "       [9.99999762e-01, 2.05643531e-07, 1.26311017e-12],\n",
       "       [1.75538287e-02, 9.01097655e-01, 8.13485980e-02],\n",
       "       [4.56182306e-06, 3.11258789e-02, 9.68869507e-01],\n",
       "       [7.43875207e-05, 2.54680574e-01, 7.45245039e-01],\n",
       "       [9.28511872e-05, 9.20473710e-02, 9.07859802e-01],\n",
       "       [1.72286108e-02, 9.01291966e-01, 8.14794376e-02],\n",
       "       [1.09574653e-03, 9.59572077e-01, 3.93321328e-02],\n",
       "       [9.99999762e-01, 2.96263380e-07, 1.76927407e-12],\n",
       "       [2.18937127e-03, 9.97444868e-01, 3.65805958e-04],\n",
       "       [2.58172788e-02, 9.64987218e-01, 9.19551495e-03],\n",
       "       [5.27869072e-03, 9.84460294e-01, 1.02609629e-02],\n",
       "       [1.81721061e-05, 4.35438603e-01, 5.64543188e-01],\n",
       "       [9.99992847e-01, 7.10901759e-06, 6.00012661e-12],\n",
       "       [8.82531424e-07, 3.19619081e-03, 9.96802926e-01],\n",
       "       [9.57340162e-05, 9.94853795e-01, 5.05047524e-03],\n",
       "       [6.86196415e-07, 3.58963781e-03, 9.96409714e-01],\n",
       "       [2.98416381e-07, 1.79529132e-03, 9.98204350e-01],\n",
       "       [9.99999166e-01, 8.57311761e-07, 4.78623087e-12],\n",
       "       [7.69068778e-04, 3.91811788e-01, 6.07419133e-01],\n",
       "       [1.00000000e+00, 1.37436915e-08, 9.91106746e-14],\n",
       "       [1.00000000e+00, 5.82445630e-08, 3.91410591e-13],\n",
       "       [9.99999881e-01, 8.25452275e-08, 5.26049853e-13],\n",
       "       [9.99999762e-01, 2.70208147e-07, 1.34451749e-12],\n",
       "       [9.73858219e-03, 9.80627120e-01, 9.63430759e-03],\n",
       "       [4.18712460e-08, 6.82508049e-04, 9.99317408e-01],\n",
       "       [9.99999762e-01, 1.91012589e-07, 1.12118799e-12],\n",
       "       [2.76220732e-07, 1.72295305e-03, 9.98276830e-01],\n",
       "       [7.36462624e-08, 8.52528377e-04, 9.99147415e-01],\n",
       "       [4.83665382e-04, 2.07933947e-01, 7.91582346e-01],\n",
       "       [1.37231639e-02, 9.53849554e-01, 3.24272551e-02],\n",
       "       [9.99999881e-01, 1.27923684e-07, 4.51987704e-13],\n",
       "       [3.00136075e-04, 6.39905095e-01, 3.59794766e-01],\n",
       "       [2.95170918e-02, 9.69650567e-01, 8.32321297e-04],\n",
       "       [9.99999762e-01, 2.45312975e-07, 1.28488203e-12],\n",
       "       [9.99978900e-01, 2.11572697e-05, 1.56304258e-11],\n",
       "       [5.05732523e-08, 6.97930285e-04, 9.99302030e-01],\n",
       "       [2.88162300e-06, 5.99438045e-03, 9.94002759e-01],\n",
       "       [1.33537033e-05, 9.97981131e-01, 2.00561690e-03],\n",
       "       [1.44172518e-03, 8.98099661e-01, 1.00458622e-01],\n",
       "       [9.99998569e-01, 1.47174831e-06, 1.36740454e-11]], dtype=float32)"
      ]
     },
     "execution_count": 51,
     "metadata": {},
     "output_type": "execute_result"
    }
   ],
   "source": [
    "r2"
   ]
  },
  {
   "cell_type": "markdown",
   "metadata": {},
   "source": [
    "# 6.3 - Argmax Output Layer"
   ]
  },
  {
   "cell_type": "code",
   "execution_count": 52,
   "metadata": {
    "ExecuteTime": {
     "end_time": "2020-12-08T15:30:35.285001Z",
     "start_time": "2020-12-08T15:30:35.258075Z"
    }
   },
   "outputs": [
    {
     "data": {
      "text/plain": [
       "array([2, 0, 1, 0, 1, 0, 1, 2, 2, 2, 1, 1, 0, 1, 1, 1, 2, 0, 2, 1, 2, 2,\n",
       "       0, 2, 0, 0, 0, 0, 1, 2, 0, 2, 2, 2, 1, 0, 1, 1, 0, 0, 2, 2, 1, 1,\n",
       "       0], dtype=int64)"
      ]
     },
     "execution_count": 52,
     "metadata": {},
     "output_type": "execute_result"
    }
   ],
   "source": [
    "r3"
   ]
  },
  {
   "cell_type": "markdown",
   "metadata": {},
   "source": [
    "# 6.4 - Accuracy Score"
   ]
  },
  {
   "cell_type": "code",
   "execution_count": 57,
   "metadata": {
    "ExecuteTime": {
     "end_time": "2020-12-08T15:35:07.394768Z",
     "start_time": "2020-12-08T15:35:07.386798Z"
    }
   },
   "outputs": [
    {
     "data": {
      "text/plain": [
       "array([2, 0, 1, 0, 1, 0, 1, 2, 1, 2, 1, 2, 0, 1, 1, 1, 1, 0, 2, 1, 2, 2,\n",
       "       0, 2, 0, 0, 0, 0, 1, 2, 0, 2, 2, 2, 1, 0, 2, 1, 0, 0, 2, 2, 1, 1,\n",
       "       0], dtype=int64)"
      ]
     },
     "execution_count": 57,
     "metadata": {},
     "output_type": "execute_result"
    }
   ],
   "source": [
    "y_test2 = np.argmax(y_test, 1)\n",
    "y_test2"
   ]
  },
  {
   "cell_type": "code",
   "execution_count": 59,
   "metadata": {
    "ExecuteTime": {
     "end_time": "2020-12-08T15:35:12.516283Z",
     "start_time": "2020-12-08T15:35:12.251735Z"
    }
   },
   "outputs": [
    {
     "data": {
      "text/plain": [
       "0.9111111111111111"
      ]
     },
     "execution_count": 59,
     "metadata": {},
     "output_type": "execute_result"
    }
   ],
   "source": [
    "model_accuracy_score = accuracy_score(y_test2, r3)\n",
    "model_accuracy_score"
   ]
  }
 ],
 "metadata": {
  "kernelspec": {
   "display_name": "Python 3",
   "language": "python",
   "name": "python3"
  },
  "language_info": {
   "codemirror_mode": {
    "name": "ipython",
    "version": 3
   },
   "file_extension": ".py",
   "mimetype": "text/x-python",
   "name": "python",
   "nbconvert_exporter": "python",
   "pygments_lexer": "ipython3",
   "version": "3.7.9"
  }
 },
 "nbformat": 4,
 "nbformat_minor": 2
}
